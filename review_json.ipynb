{
 "cells": [
  {
   "cell_type": "code",
   "execution_count": 17,
   "metadata": {},
   "outputs": [],
   "source": [
    "class User:\n",
    "    def __init__(self, name, username, password):\n",
    "        self.name = name\n",
    "        self.username = username\n",
    "        self.password = password"
   ]
  },
  {
   "cell_type": "code",
   "execution_count": 4,
   "metadata": {},
   "outputs": [],
   "source": [
    "a = 'Hahahahaha' # không phải jsonjson\n",
    "a = '{\"name\": \"Hahahahaha\"}' # json"
   ]
  },
  {
   "cell_type": "markdown",
   "metadata": {},
   "source": [
    "# load thong tin tu json"
   ]
  },
  {
   "cell_type": "code",
   "execution_count": 14,
   "metadata": {},
   "outputs": [
    {
     "name": "stdout",
     "output_type": "stream",
     "text": [
      "[{'name': 'Quang', 'username': 'quangdz', 'password': '123456'}, {'name': 'Giang', 'username': 'giangdz', 'password': 'aloalo1234'}, {'name': 'Giang', 'username': 'giangdz', 'password': 'aloalo1234'}]\n"
     ]
    }
   ],
   "source": [
    "import json\n",
    "with open('review_json_data.json', 'r') as file:\n",
    "    data = file.read()\n",
    "    data = json.loads(data)\n",
    "    print(data)\n"
   ]
  },
  {
   "cell_type": "markdown",
   "metadata": {},
   "source": [
    "# thêm dữ dữ liệu"
   ]
  },
  {
   "cell_type": "code",
   "execution_count": 13,
   "metadata": {},
   "outputs": [
    {
     "name": "stdout",
     "output_type": "stream",
     "text": [
      "[{'name': 'Quang', 'username': 'quangdz', 'password': '123456'}, {'name': 'Giang', 'username': 'giangdz', 'password': 'aloalo1234'}, {'name': 'Giang', 'username': 'giangdz', 'password': 'aloalo1234'}]\n"
     ]
    }
   ],
   "source": [
    "user = User('Giang', 'giangdz', 'aloalo1234')\n",
    "data.append(user.__dict__)\n",
    "print(data)\n",
    "\n",
    "with open('review_json_data.json', 'w') as file:\n",
    "    file.write(json.dumps(data))"
   ]
  },
  {
   "cell_type": "markdown",
   "metadata": {},
   "source": [
    "# xóa dữ liệu"
   ]
  },
  {
   "cell_type": "code",
   "execution_count": 15,
   "metadata": {},
   "outputs": [],
   "source": [
    "for user in data:\n",
    "    if user['username'] == 'giangdz':\n",
    "        data.remove(user)\n",
    "        break\n",
    "\n",
    "with open('review_json_data.json', 'w') as file:\n",
    "    file.write(json.dumps(data))"
   ]
  },
  {
   "cell_type": "markdown",
   "metadata": {},
   "source": [
    "\n",
    "# sửa dữ liệu"
   ]
  },
  {
   "cell_type": "code",
   "execution_count": 16,
   "metadata": {},
   "outputs": [],
   "source": [
    "for user in data:\n",
    "    if user['username'] == 'quangdz':\n",
    "        user['username'] = 'quangdz1'\n",
    "        break\n",
    "\n",
    "with open('review_json_data.json', 'w') as file:\n",
    "    file.write(json.dumps(data))"
   ]
  }
 ],
 "metadata": {
  "kernelspec": {
   "display_name": "Python 3",
   "language": "python",
   "name": "python3"
  },
  "language_info": {
   "codemirror_mode": {
    "name": "ipython",
    "version": 3
   },
   "file_extension": ".py",
   "mimetype": "text/x-python",
   "name": "python",
   "nbconvert_exporter": "python",
   "pygments_lexer": "ipython3",
   "version": "3.12.4"
  }
 },
 "nbformat": 4,
 "nbformat_minor": 2
}
