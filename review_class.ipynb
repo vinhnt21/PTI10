{
 "cells": [
  {
   "cell_type": "markdown",
   "metadata": {},
   "source": [
    "\n",
    "## Class mô tả một đối tượng trong thực thế\n",
    "### Thuộc tính (Attribute)\n",
    "- Đặc điểm của đối tượng\n",
    "- Ví dụ: Màu sắc, kích thước, hình dáng, ...\n",
    "### Hành vi\n",
    "- Là những hành động của đối tượng\n",
    "- Ví dụ: Di chuyển, ăn, ngủ, ..."
   ]
  },
  {
   "cell_type": "code",
   "execution_count": 1,
   "metadata": {},
   "outputs": [],
   "source": [
    "class Student:\n",
    "    def __init__(self, name, dob, email, phone):\n",
    "        self.name = name\n",
    "        self.dob = dob\n",
    "        self.email = email\n",
    "        self.phone = phone\n",
    "        \n",
    "        \n",
    "        \n",
    "    def introduce(self):\n",
    "        print('Hi, my name is', self.name)\n",
    "        print('I was born on', self.dob)\n",
    "        print('My email is', self.email)\n",
    "        print('My phone number is', self.phone)"
   ]
  }
 ],
 "metadata": {
  "kernelspec": {
   "display_name": "Python 3",
   "language": "python",
   "name": "python3"
  },
  "language_info": {
   "codemirror_mode": {
    "name": "ipython",
    "version": 3
   },
   "file_extension": ".py",
   "mimetype": "text/x-python",
   "name": "python",
   "nbconvert_exporter": "python",
   "pygments_lexer": "ipython3",
   "version": "3.12.4"
  }
 },
 "nbformat": 4,
 "nbformat_minor": 2
}
